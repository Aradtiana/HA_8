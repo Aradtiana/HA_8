{
 "cells": [
  {
   "cell_type": "code",
   "execution_count": 1,
   "id": "42af3437-bb11-4e0f-8f63-291b4544f067",
   "metadata": {},
   "outputs": [
    {
     "name": "stdout",
     "output_type": "stream",
     "text": [
      "Сумма чисел: 21\n"
     ]
    }
   ],
   "source": [
    "#code optimization 1 \n",
    "numbers = [1, 2, 3, 4, 5, 6]\n",
    "print(\"Сумма чисел:\", sum(numbers))"
   ]
  },
  {
   "cell_type": "code",
   "execution_count": 2,
   "id": "4dec2066-04ab-4df5-ad2c-08e53356d03f",
   "metadata": {},
   "outputs": [
    {
     "name": "stdout",
     "output_type": "stream",
     "text": [
      "Максимальное число: 25\n"
     ]
    }
   ],
   "source": [
    "#code optimization 2\n",
    "nums = [10, 3, 25, 7, 19]\n",
    "print(\"Максимальное число:\", max(nums))"
   ]
  },
  {
   "cell_type": "code",
   "execution_count": 4,
   "id": "82b5b030-9245-4ca3-a60a-6daad5f3b72d",
   "metadata": {},
   "outputs": [
    {
     "name": "stdin",
     "output_type": "stream",
     "text": [
      "Введите текст:  hello\n"
     ]
    },
    {
     "name": "stdout",
     "output_type": "stream",
     "text": [
      "Количество гласных: 2\n"
     ]
    }
   ],
   "source": [
    "#code optimization 3\n",
    "text = input(\"Введите текст: \").lower()\n",
    "vowels = set(\"aeiouy\")\n",
    "count = sum(1 for ch in text if ch in vowels)\n",
    "print(\"Количество гласных:\", count)"
   ]
  },
  {
   "cell_type": "code",
   "execution_count": 5,
   "id": "8eff4c98-216a-43e2-977c-b8405a5ecf81",
   "metadata": {},
   "outputs": [
    {
     "name": "stdin",
     "output_type": "stream",
     "text": [
      "Введите слово:  hello\n"
     ]
    },
    {
     "name": "stdout",
     "output_type": "stream",
     "text": [
      "Это не палиндром.\n"
     ]
    }
   ],
   "source": [
    "#code optimization 4\n",
    "word = input(\"Введите слово: \").lower()\n",
    "if word == word[::-1]:\n",
    "    print(\"Это палиндром!\")\n",
    "else:\n",
    "    print(\"Это не палиндром.\")"
   ]
  }
 ],
 "metadata": {
  "kernelspec": {
   "display_name": "Python 3 (ipykernel)",
   "language": "python",
   "name": "python3"
  },
  "language_info": {
   "codemirror_mode": {
    "name": "ipython",
    "version": 3
   },
   "file_extension": ".py",
   "mimetype": "text/x-python",
   "name": "python",
   "nbconvert_exporter": "python",
   "pygments_lexer": "ipython3",
   "version": "3.12.7"
  }
 },
 "nbformat": 4,
 "nbformat_minor": 5
}
