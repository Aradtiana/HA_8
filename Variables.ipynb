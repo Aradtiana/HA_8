{
 "cells": [
  {
   "cell_type": "code",
   "execution_count": 2,
   "id": "b3b58545-4be8-4c29-aff9-f95d81e52058",
   "metadata": {},
   "outputs": [
    {
     "name": "stdout",
     "output_type": "stream",
     "text": [
      "a = 567 Тип переменной: <class 'int'>\n"
     ]
    }
   ],
   "source": [
    "a = 567\n",
    "print(\"a =\", a, \"Тип переменной:\", type(a))"
   ]
  },
  {
   "cell_type": "code",
   "execution_count": 3,
   "id": "8629e5ea-6643-4fbf-9f97-36376f9c64e9",
   "metadata": {},
   "outputs": [
    {
     "name": "stdout",
     "output_type": "stream",
     "text": [
      "a = 699.74 Тип переменной: <class 'float'>\n"
     ]
    }
   ],
   "source": [
    "a = 699.74\n",
    "print(\"a =\", a, \"Тип переменной:\", type(a))"
   ]
  },
  {
   "cell_type": "code",
   "execution_count": 7,
   "id": "27a8bb67-c31c-4781-afdd-bc4bd54b75b8",
   "metadata": {},
   "outputs": [
    {
     "name": "stdout",
     "output_type": "stream",
     "text": [
      "a = (57+86j) Тип переменной: <class 'complex'>\n"
     ]
    }
   ],
   "source": [
    "a = 57 + 86j\n",
    "print(\"a =\", a, \"Тип переменной:\", type(a))"
   ]
  },
  {
   "cell_type": "code",
   "execution_count": 8,
   "id": "30b607dc-5205-4863-9a59-5fdca0b1b41e",
   "metadata": {},
   "outputs": [
    {
     "name": "stdout",
     "output_type": "stream",
     "text": [
      "message = Hello, World! Тип переменной: <class 'str'>\n"
     ]
    }
   ],
   "source": [
    "message = \"Hello, World!\"\n",
    "print(\"message =\", message, \"Тип переменной:\", type(message))"
   ]
  },
  {
   "cell_type": "code",
   "execution_count": 9,
   "id": "fef84940-cc5c-4309-8965-bfadba4d231c",
   "metadata": {},
   "outputs": [
    {
     "name": "stdout",
     "output_type": "stream",
     "text": [
      "До преобразования: 159.45 <class 'float'>\n",
      "После преобразования: 159 <class 'int'>\n"
     ]
    }
   ],
   "source": [
    "a = 159.45\n",
    "print(\"До преобразования:\", a, type(a))\n",
    "a_int = int(a)\n",
    "print(\"После преобразования:\", a_int, type(a_int))"
   ]
  }
 ],
 "metadata": {
  "kernelspec": {
   "display_name": "Python 3 (ipykernel)",
   "language": "python",
   "name": "python3"
  },
  "language_info": {
   "codemirror_mode": {
    "name": "ipython",
    "version": 3
   },
   "file_extension": ".py",
   "mimetype": "text/x-python",
   "name": "python",
   "nbconvert_exporter": "python",
   "pygments_lexer": "ipython3",
   "version": "3.12.7"
  }
 },
 "nbformat": 4,
 "nbformat_minor": 5
}
